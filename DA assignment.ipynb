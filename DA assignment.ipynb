{
 "cells": [
  {
   "cell_type": "code",
   "execution_count": 1,
   "id": "098019fc",
   "metadata": {},
   "outputs": [],
   "source": [
    "import numpy as np\n",
    "import pandas as pd\n",
    "import matplotlib.pyplot as plt\n",
    "from sklearn.metrics import accuracy_score\n",
    "import seaborn as sns\n",
    "from sklearn.model_selection import train_test_split\n",
    "from sklearn.preprocessing import StandardScaler\n",
    "%matplotlib inline"
   ]
  },
  {
   "cell_type": "markdown",
   "id": "2ee29adb",
   "metadata": {},
   "source": [
    "## Task 2.1"
   ]
  },
  {
   "cell_type": "code",
   "execution_count": 2,
   "id": "35f6bb83",
   "metadata": {},
   "outputs": [],
   "source": [
    "# Gradient decent function\n",
    "def gradient_decent(X,y,parameters,lr,itr):\n",
    "    loss_values = np.zeros(itr)\n",
    "    for i in range(itr):\n",
    "        fx= X @ parameters\n",
    "        y_pred =1/(1+np.exp(-fx))\n",
    "        err = y_pred - y\n",
    "        parameters=parameters-( X.T @ err)* lr *(1/len(y))\n",
    "        loss=(1/len(y))*sum(-y*np.log(y_pred)-(1-y)*np.log(1-y_pred))\n",
    "        loss_values[i]=loss\n",
    "    return parameters,loss_values,y_pred"
   ]
  },
  {
   "cell_type": "code",
   "execution_count": 3,
   "id": "c1b1e85e",
   "metadata": {},
   "outputs": [],
   "source": [
    "def err_rate (parameters):\n",
    "    weight = parameters[1:]\n",
    "    intercept =parameters[0]\n",
    "    x_p= (X_test @ weight)+intercept\n",
    "    prob=1/(1+np.exp(-x_p))\n",
    "    y=np.where(prob>=0.5,1,0)\n",
    "    return(1-accuracy_score(y_test,y))"
   ]
  },
  {
   "cell_type": "markdown",
   "id": "a7699450",
   "metadata": {},
   "source": [
    "## Task 2.2"
   ]
  },
  {
   "cell_type": "code",
   "execution_count": 4,
   "id": "95fadd18",
   "metadata": {},
   "outputs": [],
   "source": [
    "df = pd.read_csv('Book1.csv')\n",
    "df.drop(['cylinders','displacement','acceleration','name'],axis=1,inplace=True)\n",
    "df=df.replace('?',np.NaN)\n",
    "df=df.dropna()\n",
    "df['horsepower']=df.horsepower.astype(float).astype(int)"
   ]
  },
  {
   "cell_type": "code",
   "execution_count": 5,
   "id": "eac401c2",
   "metadata": {},
   "outputs": [],
   "source": [
    "df.loc[df.mpg<23,['mpg']]=0\n",
    "df.loc[df.mpg>=23,['mpg']]=1"
   ]
  },
  {
   "cell_type": "code",
   "execution_count": 6,
   "id": "64839b38",
   "metadata": {},
   "outputs": [],
   "source": [
    "df['high']=df['mpg']\n",
    "df.drop('mpg',axis=1,inplace=True)"
   ]
  },
  {
   "cell_type": "code",
   "execution_count": 7,
   "id": "89c8d505",
   "metadata": {},
   "outputs": [
    {
     "data": {
      "text/plain": [
       "dtype('int32')"
      ]
     },
     "execution_count": 7,
     "metadata": {},
     "output_type": "execute_result"
    }
   ],
   "source": [
    "df.horsepower.dtype"
   ]
  },
  {
   "cell_type": "code",
   "execution_count": 8,
   "id": "25726200",
   "metadata": {},
   "outputs": [],
   "source": [
    "df=pd.get_dummies(df,columns=['origin'])"
   ]
  },
  {
   "cell_type": "code",
   "execution_count": 81,
   "id": "57be376b",
   "metadata": {},
   "outputs": [
    {
     "data": {
      "text/html": [
       "<div>\n",
       "<style scoped>\n",
       "    .dataframe tbody tr th:only-of-type {\n",
       "        vertical-align: middle;\n",
       "    }\n",
       "\n",
       "    .dataframe tbody tr th {\n",
       "        vertical-align: top;\n",
       "    }\n",
       "\n",
       "    .dataframe thead th {\n",
       "        text-align: right;\n",
       "    }\n",
       "</style>\n",
       "<table border=\"1\" class=\"dataframe\">\n",
       "  <thead>\n",
       "    <tr style=\"text-align: right;\">\n",
       "      <th></th>\n",
       "      <th>horsepower</th>\n",
       "      <th>weight</th>\n",
       "      <th>year</th>\n",
       "      <th>high</th>\n",
       "      <th>origin_1</th>\n",
       "      <th>origin_2</th>\n",
       "      <th>origin_3</th>\n",
       "    </tr>\n",
       "  </thead>\n",
       "  <tbody>\n",
       "    <tr>\n",
       "      <th>0</th>\n",
       "      <td>130</td>\n",
       "      <td>3504</td>\n",
       "      <td>70</td>\n",
       "      <td>0.0</td>\n",
       "      <td>1</td>\n",
       "      <td>0</td>\n",
       "      <td>0</td>\n",
       "    </tr>\n",
       "    <tr>\n",
       "      <th>1</th>\n",
       "      <td>165</td>\n",
       "      <td>3693</td>\n",
       "      <td>70</td>\n",
       "      <td>0.0</td>\n",
       "      <td>1</td>\n",
       "      <td>0</td>\n",
       "      <td>0</td>\n",
       "    </tr>\n",
       "    <tr>\n",
       "      <th>2</th>\n",
       "      <td>150</td>\n",
       "      <td>3436</td>\n",
       "      <td>70</td>\n",
       "      <td>0.0</td>\n",
       "      <td>1</td>\n",
       "      <td>0</td>\n",
       "      <td>0</td>\n",
       "    </tr>\n",
       "    <tr>\n",
       "      <th>3</th>\n",
       "      <td>150</td>\n",
       "      <td>3433</td>\n",
       "      <td>70</td>\n",
       "      <td>0.0</td>\n",
       "      <td>1</td>\n",
       "      <td>0</td>\n",
       "      <td>0</td>\n",
       "    </tr>\n",
       "    <tr>\n",
       "      <th>4</th>\n",
       "      <td>140</td>\n",
       "      <td>3449</td>\n",
       "      <td>70</td>\n",
       "      <td>0.0</td>\n",
       "      <td>1</td>\n",
       "      <td>0</td>\n",
       "      <td>0</td>\n",
       "    </tr>\n",
       "    <tr>\n",
       "      <th>5</th>\n",
       "      <td>198</td>\n",
       "      <td>4341</td>\n",
       "      <td>70</td>\n",
       "      <td>0.0</td>\n",
       "      <td>1</td>\n",
       "      <td>0</td>\n",
       "      <td>0</td>\n",
       "    </tr>\n",
       "    <tr>\n",
       "      <th>6</th>\n",
       "      <td>220</td>\n",
       "      <td>4354</td>\n",
       "      <td>70</td>\n",
       "      <td>0.0</td>\n",
       "      <td>1</td>\n",
       "      <td>0</td>\n",
       "      <td>0</td>\n",
       "    </tr>\n",
       "    <tr>\n",
       "      <th>7</th>\n",
       "      <td>215</td>\n",
       "      <td>4312</td>\n",
       "      <td>70</td>\n",
       "      <td>0.0</td>\n",
       "      <td>1</td>\n",
       "      <td>0</td>\n",
       "      <td>0</td>\n",
       "    </tr>\n",
       "    <tr>\n",
       "      <th>8</th>\n",
       "      <td>225</td>\n",
       "      <td>4425</td>\n",
       "      <td>70</td>\n",
       "      <td>0.0</td>\n",
       "      <td>1</td>\n",
       "      <td>0</td>\n",
       "      <td>0</td>\n",
       "    </tr>\n",
       "    <tr>\n",
       "      <th>9</th>\n",
       "      <td>190</td>\n",
       "      <td>3850</td>\n",
       "      <td>70</td>\n",
       "      <td>0.0</td>\n",
       "      <td>1</td>\n",
       "      <td>0</td>\n",
       "      <td>0</td>\n",
       "    </tr>\n",
       "  </tbody>\n",
       "</table>\n",
       "</div>"
      ],
      "text/plain": [
       "   horsepower  weight  year  high  origin_1  origin_2  origin_3\n",
       "0         130    3504    70   0.0         1         0         0\n",
       "1         165    3693    70   0.0         1         0         0\n",
       "2         150    3436    70   0.0         1         0         0\n",
       "3         150    3433    70   0.0         1         0         0\n",
       "4         140    3449    70   0.0         1         0         0\n",
       "5         198    4341    70   0.0         1         0         0\n",
       "6         220    4354    70   0.0         1         0         0\n",
       "7         215    4312    70   0.0         1         0         0\n",
       "8         225    4425    70   0.0         1         0         0\n",
       "9         190    3850    70   0.0         1         0         0"
      ]
     },
     "execution_count": 81,
     "metadata": {},
     "output_type": "execute_result"
    }
   ],
   "source": [
    "df.head(10)"
   ]
  },
  {
   "cell_type": "markdown",
   "id": "a49ea58c",
   "metadata": {},
   "source": [
    "## Task 2.3"
   ]
  },
  {
   "cell_type": "code",
   "execution_count": 9,
   "id": "fe46334a",
   "metadata": {},
   "outputs": [],
   "source": [
    "x=df.drop('high',axis=1)\n",
    "y = df['high']\n",
    "X_train, X_test, y_train, y_test = train_test_split(x, y, test_size=0.3, random_state=616)"
   ]
  },
  {
   "cell_type": "code",
   "execution_count": 10,
   "id": "7e6a2aac",
   "metadata": {},
   "outputs": [],
   "source": [
    "scale = StandardScaler()\n",
    "m=scale.fit(X_train)\n",
    "X_train=scale.transform(X_train)\n",
    "X_test = scale.transform(X_test)"
   ]
  },
  {
   "cell_type": "code",
   "execution_count": 11,
   "id": "abe75ce8",
   "metadata": {},
   "outputs": [],
   "source": [
    "X=np.c_[np.ones((len(X_train),1)),X_train]"
   ]
  },
  {
   "cell_type": "markdown",
   "id": "ad7cc618",
   "metadata": {},
   "source": [
    "## Task 2.4"
   ]
  },
  {
   "cell_type": "code",
   "execution_count": 12,
   "id": "2212d7a9",
   "metadata": {},
   "outputs": [
    {
     "data": {
      "text/plain": [
       "array([ 0. ,  0.1, -0.7, -0.6,  0.5,  0.3, -0.4])"
      ]
     },
     "execution_count": 12,
     "metadata": {},
     "output_type": "execute_result"
    }
   ],
   "source": [
    "parameters = (np.random.randint(-7,7,len(x.columns)+1))/10\n",
    "parameters"
   ]
  },
  {
   "cell_type": "code",
   "execution_count": 13,
   "id": "8a8d765f",
   "metadata": {},
   "outputs": [
    {
     "data": {
      "text/plain": [
       "array([ 10,  20,  30,  40,  50,  60,  70,  80,  90, 100, 110, 120, 130,\n",
       "       140, 150, 160, 170, 180, 190, 200])"
      ]
     },
     "execution_count": 13,
     "metadata": {},
     "output_type": "execute_result"
    }
   ],
   "source": [
    "lr = [0.001,0.01,0.03,0.06,0.09,0.1]\n",
    "itr =np.arange(10,210,10)\n",
    "itr"
   ]
  },
  {
   "cell_type": "code",
   "execution_count": 14,
   "id": "e9c420e8",
   "metadata": {},
   "outputs": [],
   "source": [
    "er_r=np.zeros((len(lr),len(itr)))\n",
    "er_r1=np.zeros((len(lr),len(itr)))\n",
    "for i in range(len(lr)):\n",
    "    for j in range(len(itr)):\n",
    "        parameters,loss_values,y_pred=gradient_decent(X,y_train,parameters,lr[i],itr[j])\n",
    "        y_pred=np.where(y_pred>=0.5,1,0)\n",
    "        er_r[i][j]=1-accuracy_score(y_train,y_pred)\n",
    "        er_r1[i][j]= err_rate (parameters)"
   ]
  },
  {
   "cell_type": "code",
   "execution_count": 15,
   "id": "694b2bd4",
   "metadata": {},
   "outputs": [],
   "source": [
    "df1=pd.DataFrame(er_r,index=lr,columns=itr)\n",
    "df2=pd.DataFrame(er_r1,index=lr,columns=itr)"
   ]
  },
  {
   "cell_type": "code",
   "execution_count": 16,
   "id": "930c02c3",
   "metadata": {},
   "outputs": [
    {
     "data": {
      "text/html": [
       "<style  type=\"text/css\" >\n",
       "</style><table id=\"T_dd813_\" ><caption>Training_data_error_rate   </caption><thead>    <tr>        <th class=\"index_name level0\" >Iteration</th>        <th class=\"col_heading level0 col0\" >10</th>        <th class=\"col_heading level0 col1\" >20</th>        <th class=\"col_heading level0 col2\" >30</th>        <th class=\"col_heading level0 col3\" >40</th>        <th class=\"col_heading level0 col4\" >50</th>        <th class=\"col_heading level0 col5\" >60</th>        <th class=\"col_heading level0 col6\" >70</th>        <th class=\"col_heading level0 col7\" >80</th>        <th class=\"col_heading level0 col8\" >90</th>        <th class=\"col_heading level0 col9\" >100</th>        <th class=\"col_heading level0 col10\" >110</th>        <th class=\"col_heading level0 col11\" >120</th>        <th class=\"col_heading level0 col12\" >130</th>        <th class=\"col_heading level0 col13\" >140</th>        <th class=\"col_heading level0 col14\" >150</th>        <th class=\"col_heading level0 col15\" >160</th>        <th class=\"col_heading level0 col16\" >170</th>        <th class=\"col_heading level0 col17\" >180</th>        <th class=\"col_heading level0 col18\" >190</th>        <th class=\"col_heading level0 col19\" >200</th>    </tr>    <tr>        <th class=\"index_name level0\" >Learning_Rate</th>        <th class=\"blank\" ></th>        <th class=\"blank\" ></th>        <th class=\"blank\" ></th>        <th class=\"blank\" ></th>        <th class=\"blank\" ></th>        <th class=\"blank\" ></th>        <th class=\"blank\" ></th>        <th class=\"blank\" ></th>        <th class=\"blank\" ></th>        <th class=\"blank\" ></th>        <th class=\"blank\" ></th>        <th class=\"blank\" ></th>        <th class=\"blank\" ></th>        <th class=\"blank\" ></th>        <th class=\"blank\" ></th>        <th class=\"blank\" ></th>        <th class=\"blank\" ></th>        <th class=\"blank\" ></th>        <th class=\"blank\" ></th>        <th class=\"blank\" ></th>    </tr></thead><tbody>\n",
       "                <tr>\n",
       "                        <th id=\"T_dd813_level0_row0\" class=\"row_heading level0 row0\" >0.001</th>\n",
       "                        <td id=\"T_dd813_row0_col0\" class=\"data row0 col0\" >0.532847</td>\n",
       "                        <td id=\"T_dd813_row0_col1\" class=\"data row0 col1\" >0.521898</td>\n",
       "                        <td id=\"T_dd813_row0_col2\" class=\"data row0 col2\" >0.507299</td>\n",
       "                        <td id=\"T_dd813_row0_col3\" class=\"data row0 col3\" >0.481752</td>\n",
       "                        <td id=\"T_dd813_row0_col4\" class=\"data row0 col4\" >0.456204</td>\n",
       "                        <td id=\"T_dd813_row0_col5\" class=\"data row0 col5\" >0.434307</td>\n",
       "                        <td id=\"T_dd813_row0_col6\" class=\"data row0 col6\" >0.412409</td>\n",
       "                        <td id=\"T_dd813_row0_col7\" class=\"data row0 col7\" >0.386861</td>\n",
       "                        <td id=\"T_dd813_row0_col8\" class=\"data row0 col8\" >0.383212</td>\n",
       "                        <td id=\"T_dd813_row0_col9\" class=\"data row0 col9\" >0.372263</td>\n",
       "                        <td id=\"T_dd813_row0_col10\" class=\"data row0 col10\" >0.350365</td>\n",
       "                        <td id=\"T_dd813_row0_col11\" class=\"data row0 col11\" >0.299270</td>\n",
       "                        <td id=\"T_dd813_row0_col12\" class=\"data row0 col12\" >0.266423</td>\n",
       "                        <td id=\"T_dd813_row0_col13\" class=\"data row0 col13\" >0.211679</td>\n",
       "                        <td id=\"T_dd813_row0_col14\" class=\"data row0 col14\" >0.182482</td>\n",
       "                        <td id=\"T_dd813_row0_col15\" class=\"data row0 col15\" >0.171533</td>\n",
       "                        <td id=\"T_dd813_row0_col16\" class=\"data row0 col16\" >0.160584</td>\n",
       "                        <td id=\"T_dd813_row0_col17\" class=\"data row0 col17\" >0.149635</td>\n",
       "                        <td id=\"T_dd813_row0_col18\" class=\"data row0 col18\" >0.145985</td>\n",
       "                        <td id=\"T_dd813_row0_col19\" class=\"data row0 col19\" >0.135036</td>\n",
       "            </tr>\n",
       "            <tr>\n",
       "                        <th id=\"T_dd813_level0_row1\" class=\"row_heading level0 row1\" >0.01</th>\n",
       "                        <td id=\"T_dd813_row1_col0\" class=\"data row1 col0\" >0.135036</td>\n",
       "                        <td id=\"T_dd813_row1_col1\" class=\"data row1 col1\" >0.142336</td>\n",
       "                        <td id=\"T_dd813_row1_col2\" class=\"data row1 col2\" >0.135036</td>\n",
       "                        <td id=\"T_dd813_row1_col3\" class=\"data row1 col3\" >0.131387</td>\n",
       "                        <td id=\"T_dd813_row1_col4\" class=\"data row1 col4\" >0.131387</td>\n",
       "                        <td id=\"T_dd813_row1_col5\" class=\"data row1 col5\" >0.120438</td>\n",
       "                        <td id=\"T_dd813_row1_col6\" class=\"data row1 col6\" >0.109489</td>\n",
       "                        <td id=\"T_dd813_row1_col7\" class=\"data row1 col7\" >0.113139</td>\n",
       "                        <td id=\"T_dd813_row1_col8\" class=\"data row1 col8\" >0.105839</td>\n",
       "                        <td id=\"T_dd813_row1_col9\" class=\"data row1 col9\" >0.105839</td>\n",
       "                        <td id=\"T_dd813_row1_col10\" class=\"data row1 col10\" >0.098540</td>\n",
       "                        <td id=\"T_dd813_row1_col11\" class=\"data row1 col11\" >0.098540</td>\n",
       "                        <td id=\"T_dd813_row1_col12\" class=\"data row1 col12\" >0.094891</td>\n",
       "                        <td id=\"T_dd813_row1_col13\" class=\"data row1 col13\" >0.087591</td>\n",
       "                        <td id=\"T_dd813_row1_col14\" class=\"data row1 col14\" >0.087591</td>\n",
       "                        <td id=\"T_dd813_row1_col15\" class=\"data row1 col15\" >0.080292</td>\n",
       "                        <td id=\"T_dd813_row1_col16\" class=\"data row1 col16\" >0.080292</td>\n",
       "                        <td id=\"T_dd813_row1_col17\" class=\"data row1 col17\" >0.080292</td>\n",
       "                        <td id=\"T_dd813_row1_col18\" class=\"data row1 col18\" >0.080292</td>\n",
       "                        <td id=\"T_dd813_row1_col19\" class=\"data row1 col19\" >0.080292</td>\n",
       "            </tr>\n",
       "            <tr>\n",
       "                        <th id=\"T_dd813_level0_row2\" class=\"row_heading level0 row2\" >0.03</th>\n",
       "                        <td id=\"T_dd813_row2_col0\" class=\"data row2 col0\" >0.080292</td>\n",
       "                        <td id=\"T_dd813_row2_col1\" class=\"data row2 col1\" >0.080292</td>\n",
       "                        <td id=\"T_dd813_row2_col2\" class=\"data row2 col2\" >0.080292</td>\n",
       "                        <td id=\"T_dd813_row2_col3\" class=\"data row2 col3\" >0.080292</td>\n",
       "                        <td id=\"T_dd813_row2_col4\" class=\"data row2 col4\" >0.083942</td>\n",
       "                        <td id=\"T_dd813_row2_col5\" class=\"data row2 col5\" >0.083942</td>\n",
       "                        <td id=\"T_dd813_row2_col6\" class=\"data row2 col6\" >0.083942</td>\n",
       "                        <td id=\"T_dd813_row2_col7\" class=\"data row2 col7\" >0.083942</td>\n",
       "                        <td id=\"T_dd813_row2_col8\" class=\"data row2 col8\" >0.083942</td>\n",
       "                        <td id=\"T_dd813_row2_col9\" class=\"data row2 col9\" >0.087591</td>\n",
       "                        <td id=\"T_dd813_row2_col10\" class=\"data row2 col10\" >0.087591</td>\n",
       "                        <td id=\"T_dd813_row2_col11\" class=\"data row2 col11\" >0.087591</td>\n",
       "                        <td id=\"T_dd813_row2_col12\" class=\"data row2 col12\" >0.087591</td>\n",
       "                        <td id=\"T_dd813_row2_col13\" class=\"data row2 col13\" >0.087591</td>\n",
       "                        <td id=\"T_dd813_row2_col14\" class=\"data row2 col14\" >0.087591</td>\n",
       "                        <td id=\"T_dd813_row2_col15\" class=\"data row2 col15\" >0.087591</td>\n",
       "                        <td id=\"T_dd813_row2_col16\" class=\"data row2 col16\" >0.087591</td>\n",
       "                        <td id=\"T_dd813_row2_col17\" class=\"data row2 col17\" >0.087591</td>\n",
       "                        <td id=\"T_dd813_row2_col18\" class=\"data row2 col18\" >0.087591</td>\n",
       "                        <td id=\"T_dd813_row2_col19\" class=\"data row2 col19\" >0.087591</td>\n",
       "            </tr>\n",
       "            <tr>\n",
       "                        <th id=\"T_dd813_level0_row3\" class=\"row_heading level0 row3\" >0.06</th>\n",
       "                        <td id=\"T_dd813_row3_col0\" class=\"data row3 col0\" >0.087591</td>\n",
       "                        <td id=\"T_dd813_row3_col1\" class=\"data row3 col1\" >0.087591</td>\n",
       "                        <td id=\"T_dd813_row3_col2\" class=\"data row3 col2\" >0.087591</td>\n",
       "                        <td id=\"T_dd813_row3_col3\" class=\"data row3 col3\" >0.087591</td>\n",
       "                        <td id=\"T_dd813_row3_col4\" class=\"data row3 col4\" >0.087591</td>\n",
       "                        <td id=\"T_dd813_row3_col5\" class=\"data row3 col5\" >0.087591</td>\n",
       "                        <td id=\"T_dd813_row3_col6\" class=\"data row3 col6\" >0.087591</td>\n",
       "                        <td id=\"T_dd813_row3_col7\" class=\"data row3 col7\" >0.087591</td>\n",
       "                        <td id=\"T_dd813_row3_col8\" class=\"data row3 col8\" >0.087591</td>\n",
       "                        <td id=\"T_dd813_row3_col9\" class=\"data row3 col9\" >0.087591</td>\n",
       "                        <td id=\"T_dd813_row3_col10\" class=\"data row3 col10\" >0.087591</td>\n",
       "                        <td id=\"T_dd813_row3_col11\" class=\"data row3 col11\" >0.087591</td>\n",
       "                        <td id=\"T_dd813_row3_col12\" class=\"data row3 col12\" >0.087591</td>\n",
       "                        <td id=\"T_dd813_row3_col13\" class=\"data row3 col13\" >0.091241</td>\n",
       "                        <td id=\"T_dd813_row3_col14\" class=\"data row3 col14\" >0.091241</td>\n",
       "                        <td id=\"T_dd813_row3_col15\" class=\"data row3 col15\" >0.091241</td>\n",
       "                        <td id=\"T_dd813_row3_col16\" class=\"data row3 col16\" >0.091241</td>\n",
       "                        <td id=\"T_dd813_row3_col17\" class=\"data row3 col17\" >0.091241</td>\n",
       "                        <td id=\"T_dd813_row3_col18\" class=\"data row3 col18\" >0.091241</td>\n",
       "                        <td id=\"T_dd813_row3_col19\" class=\"data row3 col19\" >0.091241</td>\n",
       "            </tr>\n",
       "            <tr>\n",
       "                        <th id=\"T_dd813_level0_row4\" class=\"row_heading level0 row4\" >0.09</th>\n",
       "                        <td id=\"T_dd813_row4_col0\" class=\"data row4 col0\" >0.091241</td>\n",
       "                        <td id=\"T_dd813_row4_col1\" class=\"data row4 col1\" >0.091241</td>\n",
       "                        <td id=\"T_dd813_row4_col2\" class=\"data row4 col2\" >0.091241</td>\n",
       "                        <td id=\"T_dd813_row4_col3\" class=\"data row4 col3\" >0.091241</td>\n",
       "                        <td id=\"T_dd813_row4_col4\" class=\"data row4 col4\" >0.091241</td>\n",
       "                        <td id=\"T_dd813_row4_col5\" class=\"data row4 col5\" >0.091241</td>\n",
       "                        <td id=\"T_dd813_row4_col6\" class=\"data row4 col6\" >0.091241</td>\n",
       "                        <td id=\"T_dd813_row4_col7\" class=\"data row4 col7\" >0.091241</td>\n",
       "                        <td id=\"T_dd813_row4_col8\" class=\"data row4 col8\" >0.091241</td>\n",
       "                        <td id=\"T_dd813_row4_col9\" class=\"data row4 col9\" >0.091241</td>\n",
       "                        <td id=\"T_dd813_row4_col10\" class=\"data row4 col10\" >0.091241</td>\n",
       "                        <td id=\"T_dd813_row4_col11\" class=\"data row4 col11\" >0.091241</td>\n",
       "                        <td id=\"T_dd813_row4_col12\" class=\"data row4 col12\" >0.091241</td>\n",
       "                        <td id=\"T_dd813_row4_col13\" class=\"data row4 col13\" >0.091241</td>\n",
       "                        <td id=\"T_dd813_row4_col14\" class=\"data row4 col14\" >0.091241</td>\n",
       "                        <td id=\"T_dd813_row4_col15\" class=\"data row4 col15\" >0.094891</td>\n",
       "                        <td id=\"T_dd813_row4_col16\" class=\"data row4 col16\" >0.098540</td>\n",
       "                        <td id=\"T_dd813_row4_col17\" class=\"data row4 col17\" >0.098540</td>\n",
       "                        <td id=\"T_dd813_row4_col18\" class=\"data row4 col18\" >0.098540</td>\n",
       "                        <td id=\"T_dd813_row4_col19\" class=\"data row4 col19\" >0.098540</td>\n",
       "            </tr>\n",
       "            <tr>\n",
       "                        <th id=\"T_dd813_level0_row5\" class=\"row_heading level0 row5\" >0.1</th>\n",
       "                        <td id=\"T_dd813_row5_col0\" class=\"data row5 col0\" >0.098540</td>\n",
       "                        <td id=\"T_dd813_row5_col1\" class=\"data row5 col1\" >0.098540</td>\n",
       "                        <td id=\"T_dd813_row5_col2\" class=\"data row5 col2\" >0.098540</td>\n",
       "                        <td id=\"T_dd813_row5_col3\" class=\"data row5 col3\" >0.098540</td>\n",
       "                        <td id=\"T_dd813_row5_col4\" class=\"data row5 col4\" >0.098540</td>\n",
       "                        <td id=\"T_dd813_row5_col5\" class=\"data row5 col5\" >0.098540</td>\n",
       "                        <td id=\"T_dd813_row5_col6\" class=\"data row5 col6\" >0.098540</td>\n",
       "                        <td id=\"T_dd813_row5_col7\" class=\"data row5 col7\" >0.098540</td>\n",
       "                        <td id=\"T_dd813_row5_col8\" class=\"data row5 col8\" >0.098540</td>\n",
       "                        <td id=\"T_dd813_row5_col9\" class=\"data row5 col9\" >0.098540</td>\n",
       "                        <td id=\"T_dd813_row5_col10\" class=\"data row5 col10\" >0.098540</td>\n",
       "                        <td id=\"T_dd813_row5_col11\" class=\"data row5 col11\" >0.098540</td>\n",
       "                        <td id=\"T_dd813_row5_col12\" class=\"data row5 col12\" >0.098540</td>\n",
       "                        <td id=\"T_dd813_row5_col13\" class=\"data row5 col13\" >0.098540</td>\n",
       "                        <td id=\"T_dd813_row5_col14\" class=\"data row5 col14\" >0.098540</td>\n",
       "                        <td id=\"T_dd813_row5_col15\" class=\"data row5 col15\" >0.098540</td>\n",
       "                        <td id=\"T_dd813_row5_col16\" class=\"data row5 col16\" >0.098540</td>\n",
       "                        <td id=\"T_dd813_row5_col17\" class=\"data row5 col17\" >0.098540</td>\n",
       "                        <td id=\"T_dd813_row5_col18\" class=\"data row5 col18\" >0.098540</td>\n",
       "                        <td id=\"T_dd813_row5_col19\" class=\"data row5 col19\" >0.098540</td>\n",
       "            </tr>\n",
       "    </tbody></table>"
      ],
      "text/plain": [
       "<pandas.io.formats.style.Styler at 0x23e5050b3a0>"
      ]
     },
     "execution_count": 16,
     "metadata": {},
     "output_type": "execute_result"
    }
   ],
   "source": [
    "index=df1.index\n",
    "index.name='Learning_Rate'\n",
    "columns=df1.columns\n",
    "columns.name = 'Iteration'\n",
    "df1.style.set_caption(\"Training_data_error_rate   \")"
   ]
  },
  {
   "cell_type": "code",
   "execution_count": 17,
   "id": "eee3f077",
   "metadata": {},
   "outputs": [
    {
     "data": {
      "text/html": [
       "<style  type=\"text/css\" >\n",
       "</style><table id=\"T_65cf1_\" ><caption>Testing_data_error_rate   </caption><thead>    <tr>        <th class=\"index_name level0\" >Iteration</th>        <th class=\"col_heading level0 col0\" >10</th>        <th class=\"col_heading level0 col1\" >20</th>        <th class=\"col_heading level0 col2\" >30</th>        <th class=\"col_heading level0 col3\" >40</th>        <th class=\"col_heading level0 col4\" >50</th>        <th class=\"col_heading level0 col5\" >60</th>        <th class=\"col_heading level0 col6\" >70</th>        <th class=\"col_heading level0 col7\" >80</th>        <th class=\"col_heading level0 col8\" >90</th>        <th class=\"col_heading level0 col9\" >100</th>        <th class=\"col_heading level0 col10\" >110</th>        <th class=\"col_heading level0 col11\" >120</th>        <th class=\"col_heading level0 col12\" >130</th>        <th class=\"col_heading level0 col13\" >140</th>        <th class=\"col_heading level0 col14\" >150</th>        <th class=\"col_heading level0 col15\" >160</th>        <th class=\"col_heading level0 col16\" >170</th>        <th class=\"col_heading level0 col17\" >180</th>        <th class=\"col_heading level0 col18\" >190</th>        <th class=\"col_heading level0 col19\" >200</th>    </tr>    <tr>        <th class=\"index_name level0\" >Learning_Rate</th>        <th class=\"blank\" ></th>        <th class=\"blank\" ></th>        <th class=\"blank\" ></th>        <th class=\"blank\" ></th>        <th class=\"blank\" ></th>        <th class=\"blank\" ></th>        <th class=\"blank\" ></th>        <th class=\"blank\" ></th>        <th class=\"blank\" ></th>        <th class=\"blank\" ></th>        <th class=\"blank\" ></th>        <th class=\"blank\" ></th>        <th class=\"blank\" ></th>        <th class=\"blank\" ></th>        <th class=\"blank\" ></th>        <th class=\"blank\" ></th>        <th class=\"blank\" ></th>        <th class=\"blank\" ></th>        <th class=\"blank\" ></th>        <th class=\"blank\" ></th>    </tr></thead><tbody>\n",
       "                <tr>\n",
       "                        <th id=\"T_65cf1_level0_row0\" class=\"row_heading level0 row0\" >0.001</th>\n",
       "                        <td id=\"T_65cf1_row0_col0\" class=\"data row0 col0\" >0.491525</td>\n",
       "                        <td id=\"T_65cf1_row0_col1\" class=\"data row0 col1\" >0.483051</td>\n",
       "                        <td id=\"T_65cf1_row0_col2\" class=\"data row0 col2\" >0.483051</td>\n",
       "                        <td id=\"T_65cf1_row0_col3\" class=\"data row0 col3\" >0.474576</td>\n",
       "                        <td id=\"T_65cf1_row0_col4\" class=\"data row0 col4\" >0.449153</td>\n",
       "                        <td id=\"T_65cf1_row0_col5\" class=\"data row0 col5\" >0.440678</td>\n",
       "                        <td id=\"T_65cf1_row0_col6\" class=\"data row0 col6\" >0.406780</td>\n",
       "                        <td id=\"T_65cf1_row0_col7\" class=\"data row0 col7\" >0.381356</td>\n",
       "                        <td id=\"T_65cf1_row0_col8\" class=\"data row0 col8\" >0.347458</td>\n",
       "                        <td id=\"T_65cf1_row0_col9\" class=\"data row0 col9\" >0.330508</td>\n",
       "                        <td id=\"T_65cf1_row0_col10\" class=\"data row0 col10\" >0.330508</td>\n",
       "                        <td id=\"T_65cf1_row0_col11\" class=\"data row0 col11\" >0.313559</td>\n",
       "                        <td id=\"T_65cf1_row0_col12\" class=\"data row0 col12\" >0.296610</td>\n",
       "                        <td id=\"T_65cf1_row0_col13\" class=\"data row0 col13\" >0.271186</td>\n",
       "                        <td id=\"T_65cf1_row0_col14\" class=\"data row0 col14\" >0.262712</td>\n",
       "                        <td id=\"T_65cf1_row0_col15\" class=\"data row0 col15\" >0.228814</td>\n",
       "                        <td id=\"T_65cf1_row0_col16\" class=\"data row0 col16\" >0.203390</td>\n",
       "                        <td id=\"T_65cf1_row0_col17\" class=\"data row0 col17\" >0.144068</td>\n",
       "                        <td id=\"T_65cf1_row0_col18\" class=\"data row0 col18\" >0.135593</td>\n",
       "                        <td id=\"T_65cf1_row0_col19\" class=\"data row0 col19\" >0.127119</td>\n",
       "            </tr>\n",
       "            <tr>\n",
       "                        <th id=\"T_65cf1_level0_row1\" class=\"row_heading level0 row1\" >0.01</th>\n",
       "                        <td id=\"T_65cf1_row1_col0\" class=\"data row1 col0\" >0.118644</td>\n",
       "                        <td id=\"T_65cf1_row1_col1\" class=\"data row1 col1\" >0.101695</td>\n",
       "                        <td id=\"T_65cf1_row1_col2\" class=\"data row1 col2\" >0.101695</td>\n",
       "                        <td id=\"T_65cf1_row1_col3\" class=\"data row1 col3\" >0.084746</td>\n",
       "                        <td id=\"T_65cf1_row1_col4\" class=\"data row1 col4\" >0.101695</td>\n",
       "                        <td id=\"T_65cf1_row1_col5\" class=\"data row1 col5\" >0.101695</td>\n",
       "                        <td id=\"T_65cf1_row1_col6\" class=\"data row1 col6\" >0.093220</td>\n",
       "                        <td id=\"T_65cf1_row1_col7\" class=\"data row1 col7\" >0.093220</td>\n",
       "                        <td id=\"T_65cf1_row1_col8\" class=\"data row1 col8\" >0.076271</td>\n",
       "                        <td id=\"T_65cf1_row1_col9\" class=\"data row1 col9\" >0.076271</td>\n",
       "                        <td id=\"T_65cf1_row1_col10\" class=\"data row1 col10\" >0.076271</td>\n",
       "                        <td id=\"T_65cf1_row1_col11\" class=\"data row1 col11\" >0.076271</td>\n",
       "                        <td id=\"T_65cf1_row1_col12\" class=\"data row1 col12\" >0.076271</td>\n",
       "                        <td id=\"T_65cf1_row1_col13\" class=\"data row1 col13\" >0.076271</td>\n",
       "                        <td id=\"T_65cf1_row1_col14\" class=\"data row1 col14\" >0.076271</td>\n",
       "                        <td id=\"T_65cf1_row1_col15\" class=\"data row1 col15\" >0.076271</td>\n",
       "                        <td id=\"T_65cf1_row1_col16\" class=\"data row1 col16\" >0.076271</td>\n",
       "                        <td id=\"T_65cf1_row1_col17\" class=\"data row1 col17\" >0.067797</td>\n",
       "                        <td id=\"T_65cf1_row1_col18\" class=\"data row1 col18\" >0.067797</td>\n",
       "                        <td id=\"T_65cf1_row1_col19\" class=\"data row1 col19\" >0.067797</td>\n",
       "            </tr>\n",
       "            <tr>\n",
       "                        <th id=\"T_65cf1_level0_row2\" class=\"row_heading level0 row2\" >0.03</th>\n",
       "                        <td id=\"T_65cf1_row2_col0\" class=\"data row2 col0\" >0.067797</td>\n",
       "                        <td id=\"T_65cf1_row2_col1\" class=\"data row2 col1\" >0.067797</td>\n",
       "                        <td id=\"T_65cf1_row2_col2\" class=\"data row2 col2\" >0.067797</td>\n",
       "                        <td id=\"T_65cf1_row2_col3\" class=\"data row2 col3\" >0.067797</td>\n",
       "                        <td id=\"T_65cf1_row2_col4\" class=\"data row2 col4\" >0.067797</td>\n",
       "                        <td id=\"T_65cf1_row2_col5\" class=\"data row2 col5\" >0.059322</td>\n",
       "                        <td id=\"T_65cf1_row2_col6\" class=\"data row2 col6\" >0.059322</td>\n",
       "                        <td id=\"T_65cf1_row2_col7\" class=\"data row2 col7\" >0.059322</td>\n",
       "                        <td id=\"T_65cf1_row2_col8\" class=\"data row2 col8\" >0.059322</td>\n",
       "                        <td id=\"T_65cf1_row2_col9\" class=\"data row2 col9\" >0.059322</td>\n",
       "                        <td id=\"T_65cf1_row2_col10\" class=\"data row2 col10\" >0.059322</td>\n",
       "                        <td id=\"T_65cf1_row2_col11\" class=\"data row2 col11\" >0.059322</td>\n",
       "                        <td id=\"T_65cf1_row2_col12\" class=\"data row2 col12\" >0.059322</td>\n",
       "                        <td id=\"T_65cf1_row2_col13\" class=\"data row2 col13\" >0.059322</td>\n",
       "                        <td id=\"T_65cf1_row2_col14\" class=\"data row2 col14\" >0.059322</td>\n",
       "                        <td id=\"T_65cf1_row2_col15\" class=\"data row2 col15\" >0.050847</td>\n",
       "                        <td id=\"T_65cf1_row2_col16\" class=\"data row2 col16\" >0.050847</td>\n",
       "                        <td id=\"T_65cf1_row2_col17\" class=\"data row2 col17\" >0.050847</td>\n",
       "                        <td id=\"T_65cf1_row2_col18\" class=\"data row2 col18\" >0.042373</td>\n",
       "                        <td id=\"T_65cf1_row2_col19\" class=\"data row2 col19\" >0.042373</td>\n",
       "            </tr>\n",
       "            <tr>\n",
       "                        <th id=\"T_65cf1_level0_row3\" class=\"row_heading level0 row3\" >0.06</th>\n",
       "                        <td id=\"T_65cf1_row3_col0\" class=\"data row3 col0\" >0.042373</td>\n",
       "                        <td id=\"T_65cf1_row3_col1\" class=\"data row3 col1\" >0.042373</td>\n",
       "                        <td id=\"T_65cf1_row3_col2\" class=\"data row3 col2\" >0.042373</td>\n",
       "                        <td id=\"T_65cf1_row3_col3\" class=\"data row3 col3\" >0.042373</td>\n",
       "                        <td id=\"T_65cf1_row3_col4\" class=\"data row3 col4\" >0.042373</td>\n",
       "                        <td id=\"T_65cf1_row3_col5\" class=\"data row3 col5\" >0.042373</td>\n",
       "                        <td id=\"T_65cf1_row3_col6\" class=\"data row3 col6\" >0.042373</td>\n",
       "                        <td id=\"T_65cf1_row3_col7\" class=\"data row3 col7\" >0.042373</td>\n",
       "                        <td id=\"T_65cf1_row3_col8\" class=\"data row3 col8\" >0.042373</td>\n",
       "                        <td id=\"T_65cf1_row3_col9\" class=\"data row3 col9\" >0.042373</td>\n",
       "                        <td id=\"T_65cf1_row3_col10\" class=\"data row3 col10\" >0.042373</td>\n",
       "                        <td id=\"T_65cf1_row3_col11\" class=\"data row3 col11\" >0.042373</td>\n",
       "                        <td id=\"T_65cf1_row3_col12\" class=\"data row3 col12\" >0.042373</td>\n",
       "                        <td id=\"T_65cf1_row3_col13\" class=\"data row3 col13\" >0.042373</td>\n",
       "                        <td id=\"T_65cf1_row3_col14\" class=\"data row3 col14\" >0.042373</td>\n",
       "                        <td id=\"T_65cf1_row3_col15\" class=\"data row3 col15\" >0.042373</td>\n",
       "                        <td id=\"T_65cf1_row3_col16\" class=\"data row3 col16\" >0.042373</td>\n",
       "                        <td id=\"T_65cf1_row3_col17\" class=\"data row3 col17\" >0.042373</td>\n",
       "                        <td id=\"T_65cf1_row3_col18\" class=\"data row3 col18\" >0.042373</td>\n",
       "                        <td id=\"T_65cf1_row3_col19\" class=\"data row3 col19\" >0.042373</td>\n",
       "            </tr>\n",
       "            <tr>\n",
       "                        <th id=\"T_65cf1_level0_row4\" class=\"row_heading level0 row4\" >0.09</th>\n",
       "                        <td id=\"T_65cf1_row4_col0\" class=\"data row4 col0\" >0.042373</td>\n",
       "                        <td id=\"T_65cf1_row4_col1\" class=\"data row4 col1\" >0.042373</td>\n",
       "                        <td id=\"T_65cf1_row4_col2\" class=\"data row4 col2\" >0.042373</td>\n",
       "                        <td id=\"T_65cf1_row4_col3\" class=\"data row4 col3\" >0.042373</td>\n",
       "                        <td id=\"T_65cf1_row4_col4\" class=\"data row4 col4\" >0.042373</td>\n",
       "                        <td id=\"T_65cf1_row4_col5\" class=\"data row4 col5\" >0.042373</td>\n",
       "                        <td id=\"T_65cf1_row4_col6\" class=\"data row4 col6\" >0.042373</td>\n",
       "                        <td id=\"T_65cf1_row4_col7\" class=\"data row4 col7\" >0.042373</td>\n",
       "                        <td id=\"T_65cf1_row4_col8\" class=\"data row4 col8\" >0.042373</td>\n",
       "                        <td id=\"T_65cf1_row4_col9\" class=\"data row4 col9\" >0.042373</td>\n",
       "                        <td id=\"T_65cf1_row4_col10\" class=\"data row4 col10\" >0.042373</td>\n",
       "                        <td id=\"T_65cf1_row4_col11\" class=\"data row4 col11\" >0.042373</td>\n",
       "                        <td id=\"T_65cf1_row4_col12\" class=\"data row4 col12\" >0.042373</td>\n",
       "                        <td id=\"T_65cf1_row4_col13\" class=\"data row4 col13\" >0.042373</td>\n",
       "                        <td id=\"T_65cf1_row4_col14\" class=\"data row4 col14\" >0.042373</td>\n",
       "                        <td id=\"T_65cf1_row4_col15\" class=\"data row4 col15\" >0.042373</td>\n",
       "                        <td id=\"T_65cf1_row4_col16\" class=\"data row4 col16\" >0.042373</td>\n",
       "                        <td id=\"T_65cf1_row4_col17\" class=\"data row4 col17\" >0.042373</td>\n",
       "                        <td id=\"T_65cf1_row4_col18\" class=\"data row4 col18\" >0.042373</td>\n",
       "                        <td id=\"T_65cf1_row4_col19\" class=\"data row4 col19\" >0.042373</td>\n",
       "            </tr>\n",
       "            <tr>\n",
       "                        <th id=\"T_65cf1_level0_row5\" class=\"row_heading level0 row5\" >0.1</th>\n",
       "                        <td id=\"T_65cf1_row5_col0\" class=\"data row5 col0\" >0.042373</td>\n",
       "                        <td id=\"T_65cf1_row5_col1\" class=\"data row5 col1\" >0.042373</td>\n",
       "                        <td id=\"T_65cf1_row5_col2\" class=\"data row5 col2\" >0.042373</td>\n",
       "                        <td id=\"T_65cf1_row5_col3\" class=\"data row5 col3\" >0.042373</td>\n",
       "                        <td id=\"T_65cf1_row5_col4\" class=\"data row5 col4\" >0.042373</td>\n",
       "                        <td id=\"T_65cf1_row5_col5\" class=\"data row5 col5\" >0.042373</td>\n",
       "                        <td id=\"T_65cf1_row5_col6\" class=\"data row5 col6\" >0.042373</td>\n",
       "                        <td id=\"T_65cf1_row5_col7\" class=\"data row5 col7\" >0.042373</td>\n",
       "                        <td id=\"T_65cf1_row5_col8\" class=\"data row5 col8\" >0.042373</td>\n",
       "                        <td id=\"T_65cf1_row5_col9\" class=\"data row5 col9\" >0.042373</td>\n",
       "                        <td id=\"T_65cf1_row5_col10\" class=\"data row5 col10\" >0.042373</td>\n",
       "                        <td id=\"T_65cf1_row5_col11\" class=\"data row5 col11\" >0.042373</td>\n",
       "                        <td id=\"T_65cf1_row5_col12\" class=\"data row5 col12\" >0.042373</td>\n",
       "                        <td id=\"T_65cf1_row5_col13\" class=\"data row5 col13\" >0.042373</td>\n",
       "                        <td id=\"T_65cf1_row5_col14\" class=\"data row5 col14\" >0.042373</td>\n",
       "                        <td id=\"T_65cf1_row5_col15\" class=\"data row5 col15\" >0.042373</td>\n",
       "                        <td id=\"T_65cf1_row5_col16\" class=\"data row5 col16\" >0.042373</td>\n",
       "                        <td id=\"T_65cf1_row5_col17\" class=\"data row5 col17\" >0.042373</td>\n",
       "                        <td id=\"T_65cf1_row5_col18\" class=\"data row5 col18\" >0.042373</td>\n",
       "                        <td id=\"T_65cf1_row5_col19\" class=\"data row5 col19\" >0.042373</td>\n",
       "            </tr>\n",
       "    </tbody></table>"
      ],
      "text/plain": [
       "<pandas.io.formats.style.Styler at 0x23e50638d30>"
      ]
     },
     "execution_count": 17,
     "metadata": {},
     "output_type": "execute_result"
    }
   ],
   "source": [
    "index=df2.index\n",
    "index.name='Learning_Rate'\n",
    "columns=df2.columns\n",
    "columns.name = 'Iteration'\n",
    "df2.style.set_caption(\"Testing_data_error_rate   \")"
   ]
  },
  {
   "cell_type": "code",
   "execution_count": 28,
   "id": "a43f8502",
   "metadata": {},
   "outputs": [
    {
     "data": {
      "text/plain": [
       "[Text(0.5, 1.0, 'Training_data')]"
      ]
     },
     "execution_count": 28,
     "metadata": {},
     "output_type": "execute_result"
    },
    {
     "data": {
      "image/png": "[encoded data removed]",
      "text/plain": [
       "<Figure size 432x288 with 1 Axes>"
      ]
     },
     "metadata": {
      "needs_background": "light"
     },
     "output_type": "display_data"
    }
   ],
   "source": [
    "pt=sns.lineplot(data=df1.T)\n",
    "pt.set_ylabel('Error_rate')\n",
    "pt.set(title='Training_data')"
   ]
  },
  {
   "cell_type": "code",
   "execution_count": 19,
   "id": "beffc88d",
   "metadata": {},
   "outputs": [
    {
     "data": {
      "text/plain": [
       "[Text(0.5, 1.0, 'Test_data')]"
      ]
     },
     "execution_count": 19,
     "metadata": {},
     "output_type": "execute_result"
    },
    {
     "data": {
      "image/png": "[encoded data removed]",
      "text/plain": [
       "<Figure size 432x288 with 1 Axes>"
      ]
     },
     "metadata": {
      "needs_background": "light"
     },
     "output_type": "display_data"
    }
   ],
   "source": [
    "pt=sns.lineplot(data=df2.T)\n",
    "pt.set_ylabel('Error_rate')\n",
    "pt.set(title='Test_data')"
   ]
  },
  {
   "cell_type": "markdown",
   "id": "52fea4b5",
   "metadata": {},
   "source": [
    "## Task 2.5"
   ]
  },
  {
   "cell_type": "code",
   "execution_count": 20,
   "id": "eeb17d13",
   "metadata": {},
   "outputs": [],
   "source": [
    "parameters = (np.random.randint(-7,7,len(x.columns)+1))/10\n",
    "parameters1 = np.copy(parameters)"
   ]
  },
  {
   "cell_type": "code",
   "execution_count": 21,
   "id": "44c36f1e",
   "metadata": {},
   "outputs": [],
   "source": [
    "itr=10\n",
    "val=0\n",
    "loss_rate=1\n",
    "while loss_rate>0.01:\n",
    "    parameters=np.copy(parameters1)\n",
    "    parameters,loss_values,y_pred=gradient_decent(X,y_train,parameters,0.03,itr)\n",
    "    loss_rate=((loss_values[val]-loss_values[-1])/loss_values[val])\n",
    "    itr+=1\n",
    "    val+=1"
   ]
  },
  {
   "cell_type": "code",
   "execution_count": 22,
   "id": "5c51d610",
   "metadata": {},
   "outputs": [
    {
     "data": {
      "text/plain": [
       "0.00996733134639023"
      ]
     },
     "execution_count": 22,
     "metadata": {},
     "output_type": "execute_result"
    }
   ],
   "source": [
    "loss_rate"
   ]
  },
  {
   "cell_type": "code",
   "execution_count": 23,
   "id": "86514775",
   "metadata": {},
   "outputs": [
    {
     "data": {
      "text/plain": [
       "array([-0.10824657, -0.35291689, -1.33820344,  0.37325455, -0.5022587 ,\n",
       "       -0.0982245 ,  0.21354944])"
      ]
     },
     "execution_count": 23,
     "metadata": {},
     "output_type": "execute_result"
    }
   ],
   "source": [
    "parameters"
   ]
  },
  {
   "cell_type": "code",
   "execution_count": 24,
   "id": "92664fae",
   "metadata": {},
   "outputs": [
    {
     "data": {
      "text/plain": [
       "222"
      ]
     },
     "execution_count": 24,
     "metadata": {},
     "output_type": "execute_result"
    }
   ],
   "source": [
    "itr"
   ]
  },
  {
   "cell_type": "markdown",
   "id": "61053bc1",
   "metadata": {},
   "source": [
    "## Task 2.6"
   ]
  },
  {
   "cell_type": "code",
   "execution_count": 25,
   "id": "5816a38a",
   "metadata": {},
   "outputs": [],
   "source": [
    "lr = 0.03\n",
    "itr = 200"
   ]
  },
  {
   "cell_type": "code",
   "execution_count": 26,
   "id": "56448e78",
   "metadata": {},
   "outputs": [],
   "source": [
    "err = np.zeros((100))\n",
    "for i in range(100):\n",
    "    parameters = (np.random.randint(-7,7,len(x.columns)+1))/10\n",
    "    parameters,loss_values,y_pred=gradient_decent(X,y_train,parameters,lr,itr)\n",
    "    err[i]=err_rate (parameters)"
   ]
  },
  {
   "cell_type": "code",
   "execution_count": 27,
   "id": "5f7d64a5",
   "metadata": {},
   "outputs": [
    {
     "data": {
      "text/plain": [
       "<AxesSubplot:>"
      ]
     },
     "execution_count": 27,
     "metadata": {},
     "output_type": "execute_result"
    },
    {
     "data": {
      "image/png": "[encoded data removed]",
      "text/plain": [
       "<Figure size 432x288 with 1 Axes>"
      ]
     },
     "metadata": {
      "needs_background": "light"
     },
     "output_type": "display_data"
    }
   ],
   "source": [
    "sns.boxplot(data=err)"
   ]
  },
  {
   "cell_type": "markdown",
   "id": "87aed995",
   "metadata": {},
   "source": [
    "## Task 2.7"
   ]
  },
  {
   "cell_type": "code",
   "execution_count": 53,
   "id": "ea18f620",
   "metadata": {},
   "outputs": [],
   "source": [
    "train_itr=np.zeros((4))\n",
    "para_itr = np.zeros((4,len(x.columns)+1))\n",
    "iteration=np.zeros((4))\n",
    "for i in range(4):\n",
    "    parameters = (np.random.randint(-7,7,len(x.columns)+1))/10\n",
    "    parameters1 = np.copy(parameters)\n",
    "    itr=10\n",
    "    val=0\n",
    "    loss_rate=1\n",
    "    while loss_rate>0.01:\n",
    "        parameters=np.copy(parameters1)\n",
    "        parameters,loss_values,y_pred=gradient_decent(X,y_train,parameters,0.03,itr)\n",
    "        loss_rate=((loss_values[val]-loss_values[-1])/loss_values[val])\n",
    "        itr+=1\n",
    "        val+=1\n",
    "    train_itr[i]=loss_rate\n",
    "    para_itr[i,:]=parameters\n",
    "    iteration[i]=itr"
   ]
  },
  {
   "cell_type": "code",
   "execution_count": 54,
   "id": "8ddb0da9",
   "metadata": {},
   "outputs": [
    {
     "data": {
      "text/plain": [
       "array([0.00995036, 0.00997597, 0.00999066, 0.00994044])"
      ]
     },
     "execution_count": 54,
     "metadata": {},
     "output_type": "execute_result"
    }
   ],
   "source": [
    "train_itr"
   ]
  },
  {
   "cell_type": "code",
   "execution_count": 55,
   "id": "42c4aadc",
   "metadata": {},
   "outputs": [
    {
     "data": {
      "text/plain": [
       "array([[-0.00260411, -1.2829321 , -0.16588148,  0.54192989, -0.86382625,\n",
       "        -0.21224898,  0.33941537],\n",
       "       [ 0.16492371, -0.42939009, -1.13840338,  0.34092044, -0.16236503,\n",
       "         0.40243753,  0.53514761],\n",
       "       [-0.17998515, -1.11181333, -0.40963069,  0.67014184, -0.4738165 ,\n",
       "         0.34054861,  0.32087074],\n",
       "       [ 0.2398457 , -0.70467515, -0.70693758,  0.40280951, -0.59460419,\n",
       "        -0.07652166,  0.51076239]])"
      ]
     },
     "execution_count": 55,
     "metadata": {},
     "output_type": "execute_result"
    }
   ],
   "source": [
    "para_itr"
   ]
  },
  {
   "cell_type": "code",
   "execution_count": 56,
   "id": "5229266a",
   "metadata": {},
   "outputs": [
    {
     "data": {
      "text/plain": [
       "array([188., 206., 201., 235.])"
      ]
     },
     "execution_count": 56,
     "metadata": {},
     "output_type": "execute_result"
    }
   ],
   "source": [
    "iteration"
   ]
  },
  {
   "cell_type": "markdown",
   "id": "ac5f5e4a",
   "metadata": {},
   "source": [
    "**Prediction rule based on best training objective** "
   ]
  },
  {
   "cell_type": "code",
   "execution_count": 70,
   "id": "2bc01a96",
   "metadata": {},
   "outputs": [],
   "source": [
    "index=np.where(train_itr==min(train_itr))"
   ]
  },
  {
   "cell_type": "code",
   "execution_count": 77,
   "id": "0b22e1dd",
   "metadata": {},
   "outputs": [],
   "source": [
    "Best_Bias = para_itr[index][0][0]\n",
    "Best_weight=para_itr[index][0][1:]\n",
    "best_iteration=iteration[index]"
   ]
  },
  {
   "cell_type": "code",
   "execution_count": 78,
   "id": "1f373c7d",
   "metadata": {},
   "outputs": [
    {
     "data": {
      "text/plain": [
       "0.23984569669936087"
      ]
     },
     "execution_count": 78,
     "metadata": {},
     "output_type": "execute_result"
    }
   ],
   "source": [
    "Best_Bias"
   ]
  },
  {
   "cell_type": "code",
   "execution_count": 79,
   "id": "c034a022",
   "metadata": {},
   "outputs": [
    {
     "data": {
      "text/plain": [
       "array([-0.70467515, -0.70693758,  0.40280951, -0.59460419, -0.07652166,\n",
       "        0.51076239])"
      ]
     },
     "execution_count": 79,
     "metadata": {},
     "output_type": "execute_result"
    }
   ],
   "source": [
    "Best_weight"
   ]
  },
  {
   "cell_type": "code",
   "execution_count": 80,
   "id": "33593d98",
   "metadata": {},
   "outputs": [
    {
     "data": {
      "text/plain": [
       "array([235.])"
      ]
     },
     "execution_count": 80,
     "metadata": {},
     "output_type": "execute_result"
    }
   ],
   "source": [
    "best_iteration"
   ]
  }
 ],
 "metadata": {
  "kernelspec": {
   "display_name": "Python 3 (ipykernel)",
   "language": "python",
   "name": "python3"
  },
  "language_info": {
   "codemirror_mode": {
    "name": "ipython",
    "version": 3
   },
   "file_extension": ".py",
   "mimetype": "text/x-python",
   "name": "python",
   "nbconvert_exporter": "python",
   "pygments_lexer": "ipython3",
   "version": "3.9.12"
  }
 },
 "nbformat": 4,
 "nbformat_minor": 5
}
